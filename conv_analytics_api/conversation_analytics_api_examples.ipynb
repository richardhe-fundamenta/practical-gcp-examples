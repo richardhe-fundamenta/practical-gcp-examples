{
  "cells": [
    {
      "cell_type": "markdown",
      "source": [
        "Docs for this nodebook can be found here https://cloud.google.com/gemini/docs/conversational-analytics-api/build-agent-sdk"
      ],
      "metadata": {
        "id": "Y03Pa6Uu9vMl"
      },
      "id": "Y03Pa6Uu9vMl"
    },
    {
      "cell_type": "markdown",
      "source": [
        "# Initialisation"
      ],
      "metadata": {
        "id": "wV_H4wy-DByE"
      },
      "id": "wV_H4wy-DByE"
    },
    {
      "cell_type": "code",
      "source": [
        "!pip install google-cloud-geminidataanalytics\n",
        "!pip install google-cloud-iam\n",
        "!pip install googleapis-common-protos"
      ],
      "metadata": {
        "id": "dgz5LGcC6o-W"
      },
      "id": "dgz5LGcC6o-W",
      "execution_count": null,
      "outputs": []
    },
    {
      "cell_type": "code",
      "source": [
        "from google.cloud import geminidataanalytics\n",
        "\n",
        "# Billing project\n",
        "project_id = \"rocketech-de-pgcp-sandbox\"\n",
        "dataset_id = \"ecommerce_analytics\"\n",
        "\n",
        "# System instructions, brief, not very useful\n",
        "system_instruction = \"Help the user analyse their e-commerce data.\"\n",
        "\n",
        "# System instructions, add key information to fill the gap in metadata that otherwise is not obvious.\n",
        "system_instruction = \"\"\"\n",
        "- system_instruction: >-\n",
        "    You are an expert sales analyst for a ecommerce store. You will answer questions about sales, orders, and customer data. Your responses should be concise and data-driven.\n",
        "    You should always prioritise join all required tables togather and does aggregation in one step if possible.\n",
        "- tables:\n",
        "    - table:\n",
        "        - name: ecommerce_analytics.orders\n",
        "        - description: All the ordres placed by customers\n",
        "        - synonyms: orders\n",
        "        - fields:\n",
        "            - field:\n",
        "                - name: order_date\n",
        "                - description: Do not use this column, it contains incorrect data\n",
        "            - field:\n",
        "                - name: order_date_1\n",
        "                - description: Do not use this column, it contains incorrect data\n",
        "            - field:\n",
        "                - name: order_date_2\n",
        "                - description: This is the only correct order_date column should be used for all orders\n",
        "    - relationships:\n",
        "        - relationship:\n",
        "            - name: order_item_to_orders\n",
        "            - description: >-\n",
        "                Connects order item to order\n",
        "            - relationship_type: many-to-one\n",
        "            - join_type: left\n",
        "            - left_table: ecommerce_analytics.order_item\n",
        "            - right_table: ecommerce_analytics.orders\n",
        "            - relationship_columns:\n",
        "                - left_column: order_number\n",
        "                - right_column: order_id\n",
        "        - relationship:\n",
        "            - name: orders_to_customers\n",
        "            - description: >-\n",
        "                Connects orders to customers\n",
        "            - relationship_type: many-to-one\n",
        "            - join_type: left\n",
        "            - left_table: ecommerce_analytics.orders\n",
        "            - right_table: ecommerce_analytics.customers\n",
        "            - relationship_columns:\n",
        "                - left_column: cust_acct_id\n",
        "                - right_column: customer_id\n",
        "        - relationship:\n",
        "            - name: order_item_to_products\n",
        "            - description: >-\n",
        "                Connects orders items to product\n",
        "            - relationship_type: many-to-one\n",
        "            - join_type: left\n",
        "            - left_table: ecommerce_analytics.order_items\n",
        "            - right_table: ecommerce_analytics.products\n",
        "            - relationship_columns:\n",
        "                - left_column: item_id\n",
        "                - right_column: product_id\n",
        "        - relationship:\n",
        "            - name: products_to_product_category\n",
        "            - description: >-\n",
        "                Connects products to product category\n",
        "            - relationship_type: many-to-one\n",
        "            - join_type: left\n",
        "            - left_table: ecommerce_analytics.products\n",
        "            - right_table: ecommerce_analytics.product_category\n",
        "            - relationship_columns:\n",
        "                - left_column: prod_cat_id\n",
        "                - right_column: category_id\n",
        "\"\"\""
      ],
      "metadata": {
        "id": "YxSnporTwNQc"
      },
      "id": "YxSnporTwNQc",
      "execution_count": 30,
      "outputs": []
    },
    {
      "cell_type": "code",
      "source": [
        "def register_table_references(project_id, dataset_id, table_id):\n",
        "  bigquery_table_reference = geminidataanalytics.BigQueryTableReference()\n",
        "  bigquery_table_reference.project_id = project_id\n",
        "  bigquery_table_reference.dataset_id = dataset_id\n",
        "  bigquery_table_reference.table_id = table_id\n",
        "\n",
        "  return bigquery_table_reference"
      ],
      "metadata": {
        "id": "LobfO1WI5EzN"
      },
      "id": "LobfO1WI5EzN",
      "execution_count": 31,
      "outputs": []
    },
    {
      "cell_type": "code",
      "source": [
        "data_agent_client = geminidataanalytics.DataAgentServiceClient()\n",
        "data_chat_client = geminidataanalytics.DataChatServiceClient()"
      ],
      "metadata": {
        "id": "fl1Zk1Qb8TZ1"
      },
      "id": "fl1Zk1Qb8TZ1",
      "execution_count": 32,
      "outputs": []
    },
    {
      "cell_type": "code",
      "source": [
        "tables_to_register = [\n",
        "    \"customers\",\n",
        "    \"order_item\",\n",
        "    \"orders\",\n",
        "    \"product_category\",\n",
        "    \"products\"\n",
        "]\n",
        "\n",
        "registered_tables = []\n",
        "for table_name in tables_to_register:\n",
        "    table_ref = register_table_references(project_id, dataset_id, table_name)\n",
        "    registered_tables.append(table_ref)\n",
        "\n",
        "print(\"\\n--- Registration Complete ---\")\n",
        "\n",
        "# Connect to your data source\n",
        "datasource_references = geminidataanalytics.DatasourceReferences()\n",
        "datasource_references.bq.table_references = registered_tables # Up to 10 tables"
      ],
      "metadata": {
        "id": "5T0vN6dWwQPE"
      },
      "id": "5T0vN6dWwQPE",
      "execution_count": null,
      "outputs": []
    },
    {
      "cell_type": "code",
      "source": [
        "# Set up context for stateless chat\n",
        "inline_context = geminidataanalytics.Context()\n",
        "inline_context.system_instruction = system_instruction\n",
        "inline_context.datasource_references = datasource_references\n",
        "\n",
        "# Optional: To enable advanced analysis with Python, include the following line:\n",
        "inline_context.options.analysis.python.enabled = True"
      ],
      "metadata": {
        "id": "xA3vScWF6yXO"
      },
      "id": "xA3vScWF6yXO",
      "execution_count": 36,
      "outputs": []
    },
    {
      "cell_type": "code",
      "source": [
        "# Delete a data agent\n",
        "\n",
        "data_agent_id = \"ecommerce_data_agent_100\"\n",
        "\n",
        "request = geminidataanalytics.DeleteDataAgentRequest(\n",
        "    name=f\"projects/{project_id}/locations/global/dataAgents/{data_agent_id}\",\n",
        ")\n",
        "\n",
        "try:\n",
        "    # Make the request\n",
        "    data_agent_client.delete_data_agent(request=request)\n",
        "    print(\"Data Agent Deleted\")\n",
        "except Exception as e:\n",
        "    print(f\"Error deleting Data Agent: {e}\")"
      ],
      "metadata": {
        "id": "HBqLv5rAOYCj"
      },
      "id": "HBqLv5rAOYCj",
      "execution_count": null,
      "outputs": []
    },
    {
      "cell_type": "code",
      "source": [
        "# Create a data agent\n",
        "\n",
        "data_agent_id = \"ecommerce_data_agent_100\"\n",
        "\n",
        "data_agent = geminidataanalytics.DataAgent()\n",
        "data_agent.data_analytics_agent.published_context = inline_context\n",
        "data_agent.name = f\"projects/{project_id}/locations/global/dataAgents/{data_agent_id}\" # Optional\n",
        "\n",
        "request = geminidataanalytics.CreateDataAgentRequest(\n",
        "    parent=f\"projects/{project_id}/locations/global\",\n",
        "    data_agent_id=data_agent_id, # Optional\n",
        "    data_agent=data_agent,\n",
        ")\n",
        "\n",
        "try:\n",
        "    data_agent_client.create_data_agent(request=request)\n",
        "    print(\"Data Agent created\")\n",
        "except Exception as e:\n",
        "    print(f\"Error creating Data Agent: {e}\")\n",
        "\n",
        "\n",
        "data_agent_context = geminidataanalytics.DataAgentContext()\n",
        "data_agent_context.data_agent = f\"projects/{project_id}/locations/global/dataAgents/{data_agent_id}\""
      ],
      "metadata": {
        "id": "LNudy29u7ZsN"
      },
      "id": "LNudy29u7ZsN",
      "execution_count": null,
      "outputs": []
    },
    {
      "cell_type": "markdown",
      "source": [
        "# Util Functions"
      ],
      "metadata": {
        "id": "2btKvFDSWf1E"
      },
      "id": "2btKvFDSWf1E"
    },
    {
      "cell_type": "code",
      "source": [
        "# Get a data agent\n",
        "\n",
        "request = geminidataanalytics.GetDataAgentRequest(\n",
        "    name=f\"projects/{project_id}/locations/global/dataAgents/{data_agent_id}\",\n",
        ")\n",
        "\n",
        "# Make the request\n",
        "response = data_agent_client.get_data_agent(request=request)\n",
        "\n",
        "# Handle the response\n",
        "print(response)"
      ],
      "metadata": {
        "id": "HeKD6CRs9MdE"
      },
      "id": "HeKD6CRs9MdE",
      "execution_count": null,
      "outputs": []
    },
    {
      "cell_type": "code",
      "source": [
        "# List data agents\n",
        "\n",
        "request = geminidataanalytics.ListDataAgentsRequest(\n",
        "    parent=f\"projects/{project_id}/locations/global\",\n",
        ")\n",
        "\n",
        "# Make the request\n",
        "page_result = data_agent_client.list_data_agents(request=request)\n",
        "\n",
        "# Handle the response\n",
        "for response in page_result:\n",
        "    print(response)"
      ],
      "metadata": {
        "id": "mY47p7hl9bu_"
      },
      "id": "mY47p7hl9bu_",
      "execution_count": null,
      "outputs": []
    },
    {
      "cell_type": "markdown",
      "source": [
        "# IAM (Optional if already set at project level)"
      ],
      "metadata": {
        "id": "BxHMi16FWZsm"
      },
      "id": "BxHMi16FWZsm"
    },
    {
      "cell_type": "code",
      "source": [
        "# Set IAM policy for a data agent\n",
        "\n",
        "from google.iam.v1 import policy_pb2\n",
        "from google.iam.v1 import iam_policy_pb2\n",
        "\n",
        "role = \"roles/geminidataanalytics.dataAgentEditor\"\n",
        "users = \"[user1]@gmail.com,[user2]@gmail.com\" # comma separated if more than one\n",
        "resource = f\"projects/{project_id}/locations/global/dataAgents/{data_agent_id}\"\n",
        "\n",
        "binding = policy_pb2.Binding(\n",
        "    role=role,\n",
        "    members= [f\"user:{i.strip()}\" for i in users.split(\",\")]\n",
        ")\n",
        "\n",
        "# Create the policy object\n",
        "policy = policy_pb2.Policy(bindings=[binding])\n",
        "\n",
        "# Create the request object to set the policy\n",
        "request = iam_policy_pb2.SetIamPolicyRequest(\n",
        "    resource=resource,\n",
        "    policy=policy,\n",
        ")\n",
        "\n",
        "print(request)"
      ],
      "metadata": {
        "id": "M0drUsnU9zXV"
      },
      "id": "M0drUsnU9zXV",
      "execution_count": null,
      "outputs": []
    },
    {
      "cell_type": "code",
      "source": [
        "# Get the IAM policy for a data agent\n",
        "\n",
        "request = iam_policy_pb2.GetIamPolicyRequest(\n",
        "            resource=resource,\n",
        "        )\n",
        "try:\n",
        "    response = data_agent_client.get_iam_policy(request=request)\n",
        "    print(\"IAM Policy fetched successfully!\")\n",
        "    print(f\"Response: {response}\")\n",
        "except Exception as e:\n",
        "    print(f\"Error setting IAM policy: {e}\")"
      ],
      "metadata": {
        "id": "pNO8hFxrBVD0"
      },
      "id": "pNO8hFxrBVD0",
      "execution_count": null,
      "outputs": []
    },
    {
      "cell_type": "markdown",
      "source": [
        "# Make calls to the Conversation Analytics API"
      ],
      "metadata": {
        "id": "1rbi20k_C2RW"
      },
      "id": "1rbi20k_C2RW"
    },
    {
      "cell_type": "code",
      "source": [
        "# Helper functions\n",
        "\n",
        "from pygments import highlight, lexers, formatters\n",
        "import pandas as pd\n",
        "import requests\n",
        "import json as json_lib\n",
        "import altair as alt\n",
        "import IPython\n",
        "from IPython.display import display, HTML\n",
        "\n",
        "import proto\n",
        "from google.protobuf.json_format import MessageToDict, MessageToJson\n",
        "\n",
        "def handle_text_response(resp):\n",
        "  parts = getattr(resp, 'parts')\n",
        "  print(''.join(parts))\n",
        "\n",
        "def display_schema(data):\n",
        "  fields = getattr(data, 'fields')\n",
        "  df = pd.DataFrame({\n",
        "    \"Column\": map(lambda field: getattr(field, 'name'), fields),\n",
        "    \"Type\": map(lambda field: getattr(field, 'type'), fields),\n",
        "    \"Description\": map(lambda field: getattr(field, 'description', '-'), fields),\n",
        "    \"Mode\": map(lambda field: getattr(field, 'mode'), fields)\n",
        "  })\n",
        "  display(df)\n",
        "\n",
        "def display_section_title(text):\n",
        "  display(HTML('<h2>{}</h2>'.format(text)))\n",
        "\n",
        "def format_bq_table_ref(table_ref):\n",
        "  return '{}.{}.{}'.format(table_ref.project_id, table_ref.dataset_id, table_ref.table_id)\n",
        "\n",
        "def display_datasource(datasource):\n",
        "  source_name = ''\n",
        "  if 'studio_datasource_id' in datasource:\n",
        "   source_name = getattr(datasource, 'studio_datasource_id')\n",
        "  else:\n",
        "    source_name = format_bq_table_ref(getattr(datasource, 'bigquery_table_reference'))\n",
        "\n",
        "  print(source_name)\n",
        "  display_schema(datasource.schema)\n",
        "\n",
        "def handle_schema_response(resp):\n",
        "  if 'query' in resp:\n",
        "    print(resp.query.question)\n",
        "  elif 'result' in resp:\n",
        "    display_section_title('Schema resolved')\n",
        "    print('Data sources:')\n",
        "    for datasource in resp.result.datasources:\n",
        "      display_datasource(datasource)\n",
        "\n",
        "def handle_data_response(resp):\n",
        "  if 'query' in resp:\n",
        "    query = resp.query\n",
        "    display_section_title('Retrieval query')\n",
        "    print('Query name: {}'.format(query.name))\n",
        "    print('Question: {}'.format(query.question))\n",
        "    print('Data sources:')\n",
        "    for datasource in query.datasources:\n",
        "      display_datasource(datasource)\n",
        "  elif 'generated_sql' in resp:\n",
        "    display_section_title('SQL generated')\n",
        "    print(resp.generated_sql)\n",
        "  elif 'result' in resp:\n",
        "    display_section_title('Data retrieved')\n",
        "\n",
        "    fields = [field.name for field in resp.result.schema.fields]\n",
        "    d = {}\n",
        "    for el in resp.result.data:\n",
        "      for field in fields:\n",
        "        if field in d:\n",
        "          d[field].append(el[field])\n",
        "        else:\n",
        "          d[field] = [el[field]]\n",
        "\n",
        "    display(pd.DataFrame(d))\n",
        "\n",
        "def handle_chart_response(resp):\n",
        "  def _value_to_dict(v):\n",
        "    if isinstance(v, proto.marshal.collections.maps.MapComposite):\n",
        "      return _map_to_dict(v)\n",
        "    elif isinstance(v, proto.marshal.collections.RepeatedComposite):\n",
        "      return [_value_to_dict(el) for el in v]\n",
        "    elif isinstance(v, (int, float, str, bool)):\n",
        "      return v\n",
        "    else:\n",
        "      return MessageToDict(v)\n",
        "\n",
        "  def _map_to_dict(d):\n",
        "    out = {}\n",
        "    for k in d:\n",
        "      if isinstance(d[k], proto.marshal.collections.maps.MapComposite):\n",
        "        out[k] = _map_to_dict(d[k])\n",
        "      else:\n",
        "        out[k] = _value_to_dict(d[k])\n",
        "    return out\n",
        "\n",
        "  if 'query' in resp:\n",
        "    print(resp.query.instructions)\n",
        "  elif 'result' in resp:\n",
        "    vegaConfig = resp.result.vega_config\n",
        "    vegaConfig_dict = _map_to_dict(vegaConfig)\n",
        "    alt.Chart.from_json(json_lib.dumps(vegaConfig_dict)).display();\n",
        "\n",
        "def show_message(msg):\n",
        "  m = msg.system_message\n",
        "  if 'text' in m:\n",
        "    handle_text_response(getattr(m, 'text'))\n",
        "  elif 'schema' in m:\n",
        "    handle_schema_response(getattr(m, 'schema'))\n",
        "  elif 'data' in m:\n",
        "    handle_data_response(getattr(m, 'data'))\n",
        "  elif 'chart' in m:\n",
        "    handle_chart_response(getattr(m, 'chart'))\n",
        "  print('\\n')"
      ],
      "metadata": {
        "id": "G9_pIxFCCd4D"
      },
      "id": "G9_pIxFCCd4D",
      "execution_count": 41,
      "outputs": []
    },
    {
      "cell_type": "code",
      "source": [
        "# Make calls to the API - Single turn stateless conversation\n",
        "\n",
        "# Create a request that contains a single user message (your question)\n",
        "question = \"Tell me Daily Order Count and Total Revenue from the past 7 days in decending order\"\n",
        "messages = [geminidataanalytics.Message()]\n",
        "messages[0].user_message.text = question\n",
        "\n",
        "\n",
        "# Form the request\n",
        "request = geminidataanalytics.ChatRequest(\n",
        "    parent=f\"projects/{project_id}/locations/global\",\n",
        "    messages=messages,\n",
        "    data_agent_context = data_agent_context\n",
        ")\n",
        "\n",
        "# Make the request\n",
        "stream = data_chat_client.chat(request=request)\n",
        "\n",
        "# Handle the response\n",
        "for response in stream:\n",
        "    show_message(response)"
      ],
      "metadata": {
        "id": "AfQLu_N2DKQ4"
      },
      "id": "AfQLu_N2DKQ4",
      "execution_count": null,
      "outputs": []
    },
    {
      "cell_type": "code",
      "source": [
        "# Make calls to the API - Multi turn stateless conversation\n",
        "\n",
        "def multi_turn_Conversation(msg):\n",
        "\n",
        "    message = geminidataanalytics.Message()\n",
        "    message.user_message.text = msg\n",
        "\n",
        "    # Send a multi-turn request by including previous turns and the new message\n",
        "    conversation_messages.append(message)\n",
        "\n",
        "    request = geminidataanalytics.ChatRequest(\n",
        "        parent=f\"projects/{project_id}/locations/global\",\n",
        "        messages=conversation_messages,\n",
        "        # Use data agent context\n",
        "        data_agent_context=data_agent_context,\n",
        "        # Use inline context\n",
        "        # inline_context=inline_context,\n",
        "    )\n",
        "\n",
        "    # Make the request\n",
        "    stream = data_chat_client.chat(request=request)\n",
        "\n",
        "    # Handle the response\n",
        "    for response in stream:\n",
        "      show_message(response)\n",
        "      conversation_messages.append(response)"
      ],
      "metadata": {
        "id": "SnSkPpG5Hk6Q"
      },
      "id": "SnSkPpG5Hk6Q",
      "execution_count": 42,
      "outputs": []
    },
    {
      "cell_type": "code",
      "source": [
        "conversation_messages = []\n",
        "\n",
        "multi_turn_Conversation(\"Total order value placed in the past 7 days\")\n",
        "multi_turn_Conversation(\"How about the past 14 days\")\n",
        "multi_turn_Conversation(\"How about the past month\")"
      ],
      "metadata": {
        "id": "TmUDNAvnPujp"
      },
      "id": "TmUDNAvnPujp",
      "execution_count": null,
      "outputs": []
    },
    {
      "cell_type": "code",
      "source": [
        "conversation_messages = []\n",
        "\n",
        "multi_turn_Conversation(\"Tell me the Total Revenue by Product Category from the past 7 days\")"
      ],
      "metadata": {
        "id": "CpqaoLTjIikW"
      },
      "id": "CpqaoLTjIikW",
      "execution_count": null,
      "outputs": []
    },
    {
      "cell_type": "code",
      "source": [
        "conversation_messages = []\n",
        "\n",
        "multi_turn_Conversation(\"Top 5 Most Sold Products\")\n",
        "multi_turn_Conversation(\"Also include the product category\")"
      ],
      "metadata": {
        "id": "YhGH5sGDXPOt"
      },
      "id": "YhGH5sGDXPOt",
      "execution_count": null,
      "outputs": []
    },
    {
      "cell_type": "code",
      "source": [
        "conversation_messages = []\n",
        "\n",
        "# multi_turn_Conversation(\"Average Shipping Time by Signup Month.\")\n",
        "multi_turn_Conversation(\"Average Shipping Time by Signup Month. Shipping time is calculated between delivery date and shipping date\")"
      ],
      "metadata": {
        "id": "ozQcWcvuX8-q"
      },
      "id": "ozQcWcvuX8-q",
      "execution_count": null,
      "outputs": []
    }
  ],
  "metadata": {
    "kernelspec": {
      "display_name": "Python 3",
      "language": "python",
      "name": "python3"
    },
    "language_info": {
      "codemirror_mode": {
        "name": "ipython",
        "version": 3
      },
      "file_extension": ".py",
      "mimetype": "text/x-python",
      "name": "python",
      "nbconvert_exporter": "python",
      "pygments_lexer": "ipython3",
      "version": "3.10.10"
    },
    "colab": {
      "provenance": [],
      "name": "conversation_analytics_api_examples",
      "toc_visible": true
    }
  },
  "nbformat": 4,
  "nbformat_minor": 5
}