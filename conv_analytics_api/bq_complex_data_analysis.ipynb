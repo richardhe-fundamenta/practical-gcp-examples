{
  "cells": [
    {
      "cell_type": "code",
      "id": "vq80TCD9UefbTimH3sye1eyk",
      "metadata": {
        "tags": [],
        "id": "vq80TCD9UefbTimH3sye1eyk"
      },
      "source": [
        "import pandas as pd\n",
        "from google.cloud import bigquery\n",
        "\n",
        "# Set your project and dataset IDs.\n",
        "PROJECT_ID = \"rocketech-de-pgcp-sandbox\"\n",
        "DATASET_ID = \"ecommerce_analytics\"\n",
        "TABLE_PREFIX = f\"{PROJECT_ID}.{DATASET_ID}\"\n",
        "\n",
        "client = bigquery.Client(project=PROJECT_ID)"
      ],
      "execution_count": 1,
      "outputs": []
    },
    {
      "cell_type": "markdown",
      "source": [
        "**Query 1: Daily Order Count and Total Revenue Last 7 days**"
      ],
      "metadata": {
        "id": "1FhJLNiw08bL"
      },
      "id": "1FhJLNiw08bL"
    },
    {
      "cell_type": "code",
      "source": [
        "print(\"--- Executing: Query 1: Daily Order Count and Total Revenue Last 7 days ---\")\n",
        "\n",
        "query_1 = f\"\"\"\n",
        "SELECT\n",
        "  DATE(order_date_2) AS order_date_correct,\n",
        "  COUNT(DISTINCT order_id) AS total_orders,\n",
        "  SUM(order_total_usd) AS total_revenue\n",
        "FROM\n",
        "  `{TABLE_PREFIX}.orders`\n",
        "WHERE\n",
        "  order_date_2 >= TIMESTAMP_SUB(CURRENT_TIMESTAMP(), INTERVAL 7 DAY)\n",
        "GROUP BY\n",
        "  DATE(order_date_2)\n",
        "ORDER BY\n",
        "  DATE(order_date_2) DESC;\n",
        "\"\"\"\n",
        "\n",
        "try:\n",
        "    df1 = client.query(query_1).to_dataframe()\n",
        "except Exception as e:\n",
        "    print(f\"Error converting query results to DataFrame: {e}\")\n",
        "\n",
        "df1"
      ],
      "metadata": {
        "id": "JnwtessQ0ufv"
      },
      "id": "JnwtessQ0ufv",
      "execution_count": null,
      "outputs": []
    },
    {
      "cell_type": "markdown",
      "source": [
        "**Query 2: Top 10 Customers by Total Spending**"
      ],
      "metadata": {
        "id": "nFaQwdiQ0-8r"
      },
      "id": "nFaQwdiQ0-8r"
    },
    {
      "cell_type": "code",
      "source": [
        "print(\"--- Executing: Query 2: Top 10 Customers by Total Spending ---\")\n",
        "\n",
        "query_2 = f\"\"\"\n",
        "SELECT\n",
        "  t1.customer_id,\n",
        "  t1.first_name,\n",
        "  t1.last_name,\n",
        "  SUM(t2.order_total_usd) AS lifetime_spending\n",
        "FROM\n",
        "  `{TABLE_PREFIX}.customers` AS t1\n",
        "JOIN\n",
        "  `{TABLE_PREFIX}.orders` AS t2\n",
        "ON\n",
        "  t1.customer_id = t2.cust_acct_id\n",
        "GROUP BY\n",
        "  t1.customer_id, t1.first_name, t1.last_name\n",
        "ORDER BY\n",
        "  lifetime_spending DESC\n",
        "LIMIT 10;\n",
        "\"\"\"\n",
        "\n",
        "try:\n",
        "    df2 = client.query(query_2).to_dataframe()\n",
        "except Exception as e:\n",
        "    print(f\"Error converting query results to DataFrame: {e}\")\n",
        "\n",
        "df2"
      ],
      "metadata": {
        "id": "c3bQkX4m056m"
      },
      "id": "c3bQkX4m056m",
      "execution_count": null,
      "outputs": []
    },
    {
      "cell_type": "markdown",
      "source": [
        "**Query 3: Total Revenue by Product Category from the past 7 days**"
      ],
      "metadata": {
        "id": "7IuGby0V1W5M"
      },
      "id": "7IuGby0V1W5M"
    },
    {
      "cell_type": "code",
      "source": [
        "print(\"--- Executing: Query 3: Total Revenue by Product Category from the past 7 days ---\")\n",
        "\n",
        "query_3 = f\"\"\"\n",
        "SELECT\n",
        "  t1.category_name,\n",
        "  SUM(t3.line_item_total) AS total_category_revenue\n",
        "FROM\n",
        "  `{TABLE_PREFIX}.product_category` AS t1\n",
        "JOIN\n",
        "  `{TABLE_PREFIX}.products` AS t2\n",
        "ON\n",
        "  t1.category_id = t2.prod_cat_id\n",
        "JOIN\n",
        "  `{TABLE_PREFIX}.order_item` AS t3\n",
        "ON\n",
        "  t2.product_id = t3.item_id\n",
        "JOIN\n",
        "  `{TABLE_PREFIX}.orders` AS t4\n",
        "ON\n",
        "  t3.order_num = t4.order_id\n",
        "WHERE\n",
        "  t4.order_date_2 >= TIMESTAMP_SUB(CURRENT_TIMESTAMP(), INTERVAL 7 DAY)\n",
        "GROUP BY\n",
        "  t1.category_name\n",
        "ORDER BY\n",
        "  total_category_revenue DESC;\n",
        "\"\"\"\n",
        "\n",
        "try:\n",
        "    df3 = client.query(query_3).to_dataframe()\n",
        "except Exception as e:\n",
        "    print(f\"Error converting query results to DataFrame: {e}\")\n",
        "\n",
        "df3"
      ],
      "metadata": {
        "id": "b1u-Q8ns1XmH"
      },
      "id": "b1u-Q8ns1XmH",
      "execution_count": null,
      "outputs": []
    },
    {
      "cell_type": "markdown",
      "source": [
        "**Query 4: Top 5 Most Sold Products**"
      ],
      "metadata": {
        "id": "16mAcq5E176N"
      },
      "id": "16mAcq5E176N"
    },
    {
      "cell_type": "code",
      "source": [
        "print(\"--- Executing: Query 4: Top 5 Most Sold Products ---\")\n",
        "\n",
        "query_4 = f\"\"\"\n",
        "SELECT\n",
        "  t1.product_name,\n",
        "  t1.prod_cat_id,\n",
        "  SUM(t2.quantity) AS total_quantity_sold\n",
        "FROM\n",
        "  `{TABLE_PREFIX}.products` AS t1\n",
        "JOIN\n",
        "  `{TABLE_PREFIX}.order_item` AS t2\n",
        "ON\n",
        "  t1.product_id = t2.item_id\n",
        "GROUP BY\n",
        "  t1.product_name, t1.prod_cat_id\n",
        "ORDER BY\n",
        "  total_quantity_sold DESC\n",
        "LIMIT 5;\n",
        "\"\"\"\n",
        "\n",
        "try:\n",
        "    df4 = client.query(query_4).to_dataframe()\n",
        "except Exception as e:\n",
        "    print(f\"Error converting query results to DataFrame: {e}\")\n",
        "\n",
        "df4"
      ],
      "metadata": {
        "id": "z8Fq9ojn18vk"
      },
      "id": "z8Fq9ojn18vk",
      "execution_count": null,
      "outputs": []
    },
    {
      "cell_type": "markdown",
      "source": [
        "**Average Shipping Time by Signup Month**"
      ],
      "metadata": {
        "id": "bOqL_y192jQS"
      },
      "id": "bOqL_y192jQS"
    },
    {
      "cell_type": "code",
      "source": [
        "print(\"--- Executing: Query 5: Average Shipping Time by Signup Month ---\")\n",
        "\n",
        "query_5 = f\"\"\"\n",
        "SELECT\n",
        "  FORMAT_DATE('%Y-%m', t1.signup_date) AS customer_signup_month,\n",
        "  AVG(DATE_DIFF(t2.delivery_date, t2.shipping_date, DAY)) AS avg_shipping_time_days\n",
        "FROM\n",
        "  `{TABLE_PREFIX}.customers` AS t1\n",
        "JOIN\n",
        "  `{TABLE_PREFIX}.orders` AS t2\n",
        "ON\n",
        "  t1.customer_id = t2.cust_acct_id\n",
        "WHERE\n",
        "  t2.shipping_date IS NOT NULL\n",
        "  AND t2.delivery_date IS NOT NULL\n",
        "GROUP BY\n",
        "  customer_signup_month\n",
        "ORDER BY\n",
        "  customer_signup_month;\n",
        "\"\"\"\n",
        "\n",
        "try:\n",
        "    df5 = client.query(query_5).to_dataframe()\n",
        "except Exception as e:\n",
        "    print(f\"Error converting query results to DataFrame: {e}\")\n",
        "\n",
        "df5"
      ],
      "metadata": {
        "id": "iuENTUZl2jnN"
      },
      "id": "iuENTUZl2jnN",
      "execution_count": null,
      "outputs": []
    }
  ],
  "metadata": {
    "kernelspec": {
      "display_name": "Python 3",
      "language": "python",
      "name": "python3"
    },
    "language_info": {
      "codemirror_mode": {
        "name": "ipython",
        "version": 3
      },
      "file_extension": ".py",
      "mimetype": "text/x-python",
      "name": "python",
      "nbconvert_exporter": "python",
      "pygments_lexer": "ipython3",
      "version": "3.10.10"
    },
    "colab": {
      "provenance": [],
      "name": "bq_complex_data_analysis"
    }
  },
  "nbformat": 4,
  "nbformat_minor": 5
}