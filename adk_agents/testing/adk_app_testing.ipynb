{
  "cells": [
    {
      "cell_type": "markdown",
      "metadata": {
        "id": "V-otZHRwo1CZ"
      },
      "source": [
        "# ADK Application Testing\n",
        "\n",
        "This notebook demonstrates how to test an ADK (Agent Development Kit) application.\n",
        "It covers both local and remote testing, both with Agent Engine and Cloud Run.\n",
        "\n",
        "> **Note**: This notebook assumes that the agent files are stored in the `app` folder. If your agent files are located in a different directory, please update all relevant file paths and references accordingly.\n",
        "\n",
        "<img src=\"https://github.com/GoogleCloudPlatform/agent-starter-pack/blob/main/docs/images/adk_logo.png?raw=true\" width=\"400\">\n",
        "\n"
      ]
    },
    {
      "cell_type": "markdown",
      "metadata": {
        "id": "i_ElQnjxo1Ca"
      },
      "source": [
        "## Install dependencies"
      ]
    },
    {
      "cell_type": "code",
      "execution_count": null,
      "metadata": {
        "id": "1VPVjQz6o1Cb"
      },
      "outputs": [],
      "source": [
        "!pip install google-cloud-aiplatform --upgrade"
      ]
    },
    {
      "cell_type": "markdown",
      "metadata": {
        "id": "og38CwIio1Cb"
      },
      "source": [
        "### Import libraries"
      ]
    },
    {
      "cell_type": "code",
      "execution_count": 26,
      "metadata": {
        "id": "70oZY3mCo1Cb"
      },
      "outputs": [],
      "source": [
        "import json\n",
        "\n",
        "import requests\n",
        "import vertexai"
      ]
    },
    {
      "cell_type": "markdown",
      "metadata": {
        "id": "es7DkYvfo1Cc"
      },
      "source": [
        "### Initialize Vertex AI Client"
      ]
    },
    {
      "cell_type": "code",
      "execution_count": 27,
      "metadata": {
        "id": "0-2_1VDXo1Cc"
      },
      "outputs": [],
      "source": [
        "# Initialize the Vertex AI client\n",
        "LOCATION = \"europe-west4\"\n",
        "\n",
        "client = vertexai.Client(\n",
        "    location=LOCATION,\n",
        ")"
      ]
    },
    {
      "cell_type": "code",
      "source": [],
      "metadata": {
        "id": "TyXJTkXPJ_rA"
      },
      "execution_count": 3,
      "outputs": []
    },
    {
      "cell_type": "markdown",
      "metadata": {
        "id": "yLNiTdR0o1Cc"
      },
      "source": [
        "## If you are using Agent Engine\n",
        "See more documentation at [Agent Engine Overview](https://cloud.google.com/vertex-ai/generative-ai/docs/agent-engine/overview)"
      ]
    },
    {
      "cell_type": "markdown",
      "metadata": {
        "id": "VYtBm8Rpo1Cc"
      },
      "source": [
        "### Remote Testing"
      ]
    },
    {
      "cell_type": "code",
      "execution_count": null,
      "metadata": {
        "id": "_B9idhhgo1Cc"
      },
      "outputs": [],
      "source": [
        "# Replace PROJECT_ID and ENGINE_ID with your values\n",
        "ENGINE_ID = \"8096944364430819328\"\n",
        "AGENT_ENGINE_ID = f\"projects/rocketech-de-pgcp-sandbox/locations/{LOCATION}/reasoningEngines/{ENGINE_ID}\"\n",
        "\n",
        "# Get the existing agent engine\n",
        "remote_agent_engine = client.agent_engines.get(name=AGENT_ENGINE_ID)\n",
        "print(f\"Retrieved agent engine: {remote_agent_engine.api_resource.name}\")"
      ]
    },
    {
      "cell_type": "code",
      "source": [
        "remote_session = await remote_agent_engine.async_create_session(user_id=\"shenghua.he@rocketech.co.uk\")\n",
        "print(remote_session)"
      ],
      "metadata": {
        "id": "FO5ypyoWqg3e"
      },
      "execution_count": null,
      "outputs": []
    },
    {
      "cell_type": "code",
      "source": [
        "import pandas as pd\n",
        "import matplotlib.pyplot as plt\n",
        "\n",
        "async for event in remote_agent_engine.async_stream_query(\n",
        "    user_id=\"shenghua.he@rocketech.co.uk\",\n",
        "    session_id=remote_session[\"id\"],\n",
        "    message=\"Top 5 Most Sold Products including product category from the past 12 weeks\",\n",
        "):\n",
        "\n",
        "\n",
        "    # Your existing code\n",
        "    if 'function_call' in event['content']['parts'][0]:\n",
        "        part = event['content']['parts'][0]\n",
        "        print('function call name:', part['function_call']['name'])\n",
        "        print('function call question:', part['function_call']['args']['question'])\n",
        "        print('\\n----------')\n",
        "    elif 'function_response' in event['content']['parts'][0]:\n",
        "        part = event['content']['parts'][0]\n",
        "        print('function response status:', part['function_response']['response']['status'])\n",
        "        print('function response results query:', part['function_response']['response']['results']['query'])\n",
        "        print('function response results sql:', part['function_response']['response']['results']['generated_sql'])\n",
        "        print('function response results data:', part['function_response']['response']['results']['data'])\n",
        "\n",
        "        # New code to add visualization\n",
        "        data = part['function_response']['response']['results']['data']\n",
        "\n",
        "        df = pd.DataFrame(json.loads(data))\n",
        "\n",
        "        print('\\n----------')\n",
        "    elif 'text' in event['content']['parts'][0]:\n",
        "        part = event['content']['parts'][0]\n",
        "        print('Final text:', part['text'])\n",
        "        print('\\n----------')\n"
      ],
      "metadata": {
        "id": "DBgZLq8rqtsN"
      },
      "execution_count": null,
      "outputs": []
    },
    {
      "cell_type": "code",
      "source": [
        "df"
      ],
      "metadata": {
        "id": "g809qF8DPrFk"
      },
      "execution_count": null,
      "outputs": []
    },
    {
      "cell_type": "markdown",
      "metadata": {
        "id": "186ZyQkSo1Cd"
      },
      "source": [
        "### Local Testing\n",
        "\n",
        "You can import directly the AgentEngineApp class within your environment.\n",
        "To run the agent locally, follow these steps:\n",
        "1. Make sure all required packages are installed in your environment\n",
        "2. The recommended approach is to use the same virtual environment created by the 'uv' tool\n",
        "3. You can set up this environment by running 'make install' from your agent's root directory\n",
        "4. Then select this kernel (.venv folder in your project) in your Jupyter notebook to ensure all dependencies are available"
      ]
    },
    {
      "cell_type": "code",
      "execution_count": null,
      "metadata": {
        "id": "eTCy7-D7o1Cd"
      },
      "outputs": [],
      "source": [
        "# Uncomment the following lines if you're not using the virtual environment created by uv\n",
        "# import sys\n",
        "# sys.path.append(\"../\")"
      ]
    },
    {
      "cell_type": "code",
      "execution_count": null,
      "metadata": {
        "id": "f7C1HPgCo1Cd"
      },
      "outputs": [],
      "source": [
        "from app.agent import root_agent\n",
        "from app.agent_engine_app import AgentEngineApp\n",
        "\n",
        "agent_engine = AgentEngineApp(agent=root_agent)"
      ]
    },
    {
      "cell_type": "code",
      "execution_count": null,
      "metadata": {
        "id": "eEp4aRGdo1Cd"
      },
      "outputs": [],
      "source": [
        "async for event in agent_engine.async_stream_query(message=\"hi!\", user_id=\"test\"):\n",
        "    print(event)"
      ]
    },
    {
      "cell_type": "markdown",
      "metadata": {
        "id": "OE87mCtso1Cd"
      },
      "source": [
        "## If you are using Cloud Run"
      ]
    },
    {
      "cell_type": "markdown",
      "metadata": {
        "id": "B7PdHMn6o1Cd"
      },
      "source": [
        "#### Remote Testing\n",
        "\n",
        "For more information about authenticating HTTPS requests to Cloud Run services, see:\n",
        "[Cloud Run Authentication Documentation](https://cloud.google.com/run/docs/triggering/https-request)\n",
        "\n",
        "Remote testing involves using a deployed service URL instead of localhost.\n",
        "\n",
        "Authentication is handled using GCP identity tokens instead of local credentials."
      ]
    },
    {
      "cell_type": "code",
      "execution_count": null,
      "metadata": {
        "id": "gq4N_N1no1Cd"
      },
      "outputs": [],
      "source": [
        "ID_TOKEN = get_ipython().getoutput(\"gcloud auth print-identity-token -q\")[0]"
      ]
    },
    {
      "cell_type": "code",
      "execution_count": null,
      "metadata": {
        "id": "g3eo4N2Do1Cd"
      },
      "outputs": [],
      "source": [
        "SERVICE_URL = \"YOUR_SERVICE_URL_HERE\"  # Replace with your Cloud Run service URL"
      ]
    },
    {
      "cell_type": "markdown",
      "metadata": {
        "id": "gk9shHI2o1Cd"
      },
      "source": [
        "You'll need to first create a Session"
      ]
    },
    {
      "cell_type": "code",
      "execution_count": null,
      "metadata": {
        "id": "ED_bJErIo1Cd"
      },
      "outputs": [],
      "source": [
        "user_id = \"test_user_123\"\n",
        "session_data = {\"state\": {\"preferred_language\": \"English\", \"visit_count\": 1}}\n",
        "\n",
        "session_url = f\"{SERVICE_URL}/apps/app/users/{user_id}/sessions\"\n",
        "headers = {\"Content-Type\": \"application/json\", \"Authorization\": f\"Bearer {ID_TOKEN}\"}\n",
        "\n",
        "session_response = requests.post(session_url, headers=headers, json=session_data)\n",
        "print(f\"Session creation status code: {session_response.status_code}\")\n",
        "print(f\"Session creation response: {session_response.json()}\")\n",
        "session_id = session_response.json()[\"id\"]"
      ]
    },
    {
      "cell_type": "markdown",
      "metadata": {
        "id": "mKaAx4UKo1Cd"
      },
      "source": [
        "Then you will be able to send a message"
      ]
    },
    {
      "cell_type": "code",
      "execution_count": null,
      "metadata": {
        "id": "UcEIXnq7o1Cd"
      },
      "outputs": [],
      "source": [
        "message_data = {\n",
        "    \"app_name\": \"app\",\n",
        "    \"user_id\": user_id,\n",
        "    \"session_id\": session_id,\n",
        "    \"new_message\": {\"role\": \"user\", \"parts\": [{\"text\": \"Hello! Weather in New york?\"}]},\n",
        "    \"streaming\": True,\n",
        "}\n",
        "\n",
        "message_url = f\"{SERVICE_URL}/run_sse\"\n",
        "message_response = requests.post(\n",
        "    message_url, headers=headers, json=message_data, stream=True\n",
        ")\n",
        "\n",
        "print(f\"Message send status code: {message_response.status_code}\")\n",
        "\n",
        "# Print streamed response\n",
        "for line in message_response.iter_lines():\n",
        "    if line:\n",
        "        line_str = line.decode(\"utf-8\")\n",
        "        if line_str.startswith(\"data: \"):\n",
        "            event_json = line_str[6:]\n",
        "            event = json.loads(event_json)\n",
        "            print(f\"Received event: {event}\")"
      ]
    },
    {
      "cell_type": "markdown",
      "metadata": {
        "id": "10MHclb6o1Ce"
      },
      "source": [
        "### Local Testing\n",
        "\n",
        "> You can run the application locally via the `make local-backend` command."
      ]
    },
    {
      "cell_type": "markdown",
      "metadata": {
        "id": "6e_3gOCUo1Ce"
      },
      "source": [
        "#### Create a session\n",
        " Create a new session with user preferences and state information\n"
      ]
    },
    {
      "cell_type": "code",
      "execution_count": null,
      "metadata": {
        "id": "tb7Atlqio1Ce"
      },
      "outputs": [],
      "source": [
        "user_id = \"test_user_123\"\n",
        "session_data = {\"state\": {\"preferred_language\": \"English\", \"visit_count\": 1}}\n",
        "\n",
        "session_url = f\"http://127.0.0.1:8000/apps/app/users/{user_id}/sessions\"\n",
        "headers = {\"Content-Type\": \"application/json\"}\n",
        "\n",
        "session_response = requests.post(session_url, headers=headers, json=session_data)\n",
        "print(f\"Session creation status code: {session_response.status_code}\")\n",
        "print(f\"Session creation response: {session_response.json()}\")\n",
        "session_id = session_response.json()[\"id\"]"
      ]
    },
    {
      "cell_type": "markdown",
      "metadata": {
        "id": "LVTao7B_o1Ce"
      },
      "source": [
        "#### Send a message\n",
        "Send a message to the backend service and receive a streaming response\n"
      ]
    },
    {
      "cell_type": "code",
      "execution_count": null,
      "metadata": {
        "id": "X7LG_KCro1Ce"
      },
      "outputs": [],
      "source": [
        "message_data = {\n",
        "    \"app_name\": \"app\",\n",
        "    \"user_id\": user_id,\n",
        "    \"session_id\": session_id,\n",
        "    \"new_message\": {\"role\": \"user\", \"parts\": [{\"text\": \"Hello! Weather in New york?\"}]},\n",
        "    \"streaming\": True,\n",
        "}\n",
        "\n",
        "message_url = \"http://127.0.0.1:8000/run_sse\"\n",
        "message_response = requests.post(\n",
        "    message_url, headers=headers, json=message_data, stream=True\n",
        ")\n",
        "\n",
        "print(f\"Message send status code: {message_response.status_code}\")\n",
        "\n",
        "# Print streamed response\n",
        "for line in message_response.iter_lines():\n",
        "    if line:\n",
        "        line_str = line.decode(\"utf-8\")\n",
        "        if line_str.startswith(\"data: \"):\n",
        "            event_json = line_str[6:]\n",
        "            event = json.loads(event_json)\n",
        "            print(f\"Received event: {event}\")"
      ]
    }
  ],
  "metadata": {
    "kernelspec": {
      "display_name": "myagent-1757939450",
      "language": "python",
      "name": "python3"
    },
    "language_info": {
      "codemirror_mode": {
        "name": "ipython",
        "version": 3
      },
      "file_extension": ".py",
      "mimetype": "text/x-python",
      "name": "python",
      "nbconvert_exporter": "python",
      "pygments_lexer": "ipython3",
      "version": "3.12.9"
    },
    "colab": {
      "provenance": [],
      "name": "adk_app_testing.ipynb"
    }
  },
  "nbformat": 4,
  "nbformat_minor": 0
}